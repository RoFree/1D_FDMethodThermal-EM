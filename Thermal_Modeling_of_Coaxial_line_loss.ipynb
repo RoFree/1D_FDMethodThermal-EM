{
  "nbformat": 4,
  "nbformat_minor": 0,
  "metadata": {
    "colab": {
      "name": "Thermal Modeling of Coaxial line loss.ipynb",
      "provenance": [],
      "collapsed_sections": [],
      "include_colab_link": true
    },
    "kernelspec": {
      "name": "python3",
      "display_name": "Python 3"
    },
    "language_info": {
      "name": "python"
    }
  },
  "cells": [
    {
      "cell_type": "markdown",
      "metadata": {
        "id": "view-in-github",
        "colab_type": "text"
      },
      "source": [
        "<a href=\"https://colab.research.google.com/github/RoFree/1D_FDMethodThermal-EM/blob/main/Thermal_Modeling_of_Coaxial_line_loss.ipynb\" target=\"_parent\"><img src=\"https://colab.research.google.com/assets/colab-badge.svg\" alt=\"Open In Colab\"/></a>"
      ]
    },
    {
      "cell_type": "code",
      "metadata": {
        "id": "q0Dvve67N7oA"
      },
      "source": [
        "import numpy as np\n",
        "import matplotlib.pyplot as plt"
      ],
      "execution_count": null,
      "outputs": []
    },
    {
      "cell_type": "markdown",
      "metadata": {
        "id": "WY1QojDJPTgY"
      },
      "source": [
        "The code below implements equations from the paper while also implementing a common FD method 1D temperature solver. The key functions in this library are OneDFiniteThermalSolver which is the 1D FD Thermal solver and OneDFiniteEMLossSolver which uses the FD Thermal Solver to approximate loss on the transmission line (also using the FD method)."
      ]
    },
    {
      "cell_type": "code",
      "metadata": {
        "colab": {
          "base_uri": "https://localhost:8080/",
          "height": 350
        },
        "id": "Z8HKrzqga6bE",
        "outputId": "a45b3f39-5bb5-4404-ebdf-ef3e9b364c34"
      },
      "source": [
        "#thermodynamics utility equations\n",
        "def R_tCalc(delta_L, t_conduct, areaConduct):\n",
        "  return delta_L/(t_conduct*areaConduct)\n",
        "\n",
        "def area_calc(Dout, Dinner):\n",
        "  return np.pi*pow(Dout/2,2)-np.pi*pow(Dinner/2, 2)\n",
        "\n",
        "\n",
        "#These functions are depreceated\n",
        "####################################################################\n",
        "def HeatFlowInst(Thot, Tcold, R_t):\n",
        "  return (Thot-Tcold)/R_t\n",
        "def HeatFlow_calc(Thot, Tcold, n_seg, l, t_conduct, Dout, Dinner): #approximation of heat flow through a coaxial cable in J\n",
        "  summer=0\n",
        "  for i in range(n_seg):\n",
        "    summer = summer+R_tCalc(l, t_conduct, areaConduct_calc(Dout, Dinner))\n",
        "  return (Thot-Tcold)/summer \n",
        "####################################################################\n",
        "\n",
        "\n",
        "#utility functions to calculate loss\n",
        "def AdB_calc(R_m, z_0, Dout, Dinner): #R_m is skin resistance\n",
        "  return 1.38*(R_m/z_0)*((1/Dout)+(1/Dinner))\n",
        "\n",
        "def R_m_calc(f, e_cond, e_cond_cu): #not sure what e_cond_cu is (the sigma_cu in equation 7)\n",
        "  return 0.0083*np.sqrt(f)*np.sqrt(e_cond_cu/e_cond)\n",
        "\n",
        "def Z0_calc(epsilon, Dout, Dinner):\n",
        "  return (138/np.sqrt(epsilon))*np.log10(Dout/Dinner)\n",
        "\n",
        "def nTemp_calc(NF):#Tp is the temperature of the device, G is the gain, NF is the noise figure\n",
        "  nTemp = 290*(pow(10, NF/10)-1)\n",
        "  return nTemp\n",
        "\n",
        "def NF_calc(loss):\n",
        "  return 10*np.log10(pow(10,loss/10))\n",
        "\n",
        "\n",
        "\n",
        "#approximating the conductivity given temperature using NIST data\n",
        "# https://srd.nist.gov/JPCRD/jpcrd155.pdf\n",
        "\n",
        "T0 = np.array([1, 4, 7, 10, 15, 20 ,25, 30, 35, 40, 45, 50, 55, 60, 70, 80, 90, 100, 125, 150, 175, 200, 225, 250, 273.15, 293, 300, 350, 400, 500, 600, 700, 800])\n",
        "r0 = np.array([ 0.002, 0.002, 0.002, 0.00202, 0.00218, 0.00280, 0.00449, 0.00828, 0.0147, 0.0239, 0.0358, 0.0518, 0.0727, 0.0971, 0.154, 0.215, 0.281, 0.348, 0.522, 0.699, 0.874, 1.046, 1.217, 1.387, 1.543, 1.678, 1.725, 2.063, 2.402, 3.090, 3.792, 4.514, 5.262])\n",
        "\n",
        "e_cond_cu = np.polynomial.chebyshev.Chebyshev.fit(T0[:-7],r0[:-7],4) #fitting the conductivity to a 4th degree polynomial\n",
        "plt.figure()\n",
        "plt.plot(T0[:-7], (r0[:-7]-e_cond_cu(T0[:-7]))) #plots error in the approximation within 1% accuracy\n",
        "\n",
        "\n",
        "\n",
        "#1D thermal solver using the FD method\n",
        "def distribute(old, L, n_seg, t_conduct, area):\n",
        "  new = old[:]\n",
        "  for i in range(1, len(old)-1):\n",
        "    new[i] = (old[i-1]+old[i+1])/R_tCalc(L/n_seg, t_conduct, area)\n",
        "  return new\n",
        "\n",
        "def sigDiff(a, b, thresh):\n",
        "  assert len(a) == len(b)\n",
        "  for i in range(len(a)):\n",
        "    if not abs(a[i]-b[i]) <= thresh:\n",
        "      return False\n",
        "  return True\n",
        "\n",
        "def OneDFiniteThermalSolver(bar, thresh, L, n_seg, t_conduct, Dout, Dinner):\n",
        "  final= distribute(bar)\n",
        "  while not sigDiff(bar, final, thresh):\n",
        "    bar = final\n",
        "    final = distribute(bar, L, len(bar), t_conduct, area_calc(Dout, Dinner))\n",
        "  return final\n",
        "\n",
        "\n",
        "\n",
        "#1D noise solver factoring thermals (this approximates that loss=NF which is not valid when the noise is below -174 dBm/Hz) Source:http://www.ni.com/tutorial/6810/en/\n",
        "def OneDFiniteEMLossSolver(T_gradient, f_ghz, e_cond, e_cond_cu, epsilon, Dout, Dinner): #calculates the noise temperature of each segment in the transmission line given a temperature gradient and parameters \n",
        "  noise_final = [:len(T_gradient)]\n",
        "  for i in range(len(T_gradient)):\n",
        "    noise_final[i]=AdB_calc(R_m_calc(f_ghz, e_cond(T_gradient[i]), e_cond_cu(T_gradient[i])), Z0_calc(epsilon, Dout, Dinner), Dout, Dinner)\n",
        "  return nTemp_calc(noise_final)\n",
        "\n",
        "def TotalNoise(noise, gain, Nin):\n",
        "  return Nin*np.prod(gain)+sum(noise)*(1/gain[-1] - 1)*np.prod(gain)\n"
      ],
      "execution_count": null,
      "outputs": [
        {
          "output_type": "stream",
          "text": [
            "[ 1.00000000e+01  8.33333333e+00  6.66716646e+00  5.00000000e+00\n",
            "  3.33419899e+00  1.66666667e+00  9.99579322e-04 -1.66666667e+00\n",
            " -3.33246767e+00 -5.00000000e+00 -6.66616688e+00 -8.33333333e+00\n",
            " -1.00000000e+01]\n"
          ],
          "name": "stdout"
        },
        {
          "output_type": "execute_result",
          "data": {
            "text/plain": [
              "[<matplotlib.lines.Line2D at 0x7f0a954a9c50>]"
            ]
          },
          "metadata": {
            "tags": []
          },
          "execution_count": 34
        },
        {
          "output_type": "display_data",
          "data": {
            "image/png": "[encoded data removed]",
            "text/plain": [
              "<Figure size 432x288 with 1 Axes>"
            ]
          },
          "metadata": {
            "tags": [],
            "needs_background": "light"
          }
        }
      ]
    },
    {
      "cell_type": "markdown",
      "metadata": {
        "id": "_GUujHsPQCV1"
      },
      "source": [
        "This is an example using the above library"
      ]
    },
    {
      "cell_type": "code",
      "metadata": {
        "id": "HGqdyNhInDWy"
      },
      "source": [
        "#example, calculating a temperature gradient from an initial state\n",
        "bar = [10,0,0,0,0,0,5,0,0,0,0,0,-10]\n",
        "plot = plt.figure()\n",
        "ax = plt.axes()\n",
        "\n",
        "y = np.array(OneDFiniteThermalSolver(bar, 0.001))\n",
        "print(y)\n",
        "ax.plot(y)\n",
        "\n",
        "\n"
      ],
      "execution_count": null,
      "outputs": []
    }
  ]
}